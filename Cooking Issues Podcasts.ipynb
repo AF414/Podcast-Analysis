{
 "cells": [
  {
   "cell_type": "code",
   "execution_count": 1,
   "metadata": {},
   "outputs": [
    {
     "name": "stdout",
     "output_type": "stream",
     "text": [
      "3.7.4 (tags/v3.7.4:e09359112e, Jul  8 2019, 19:29:22) [MSC v.1916 32 bit (Intel)]\n"
     ]
    }
   ],
   "source": [
    "import requests\n",
    "import random\n",
    "from bs4 import BeautifulSoup\n",
    "import sys\n",
    "\n",
    "print(sys.version)\n"
   ]
  },
  {
   "cell_type": "code",
   "execution_count": 2,
   "metadata": {},
   "outputs": [
    {
     "name": "stdout",
     "output_type": "stream",
     "text": [
      "200\n"
     ]
    }
   ],
   "source": [
    "url = \"https://rss.simplecast.com/podcasts/1517/rss.xml\"\n",
    "resp = requests.get(url)\n",
    "print(resp.status_code)"
   ]
  },
  {
   "cell_type": "code",
   "execution_count": 3,
   "metadata": {},
   "outputs": [
    {
     "name": "stdout",
     "output_type": "stream",
     "text": [
      "374\n"
     ]
    }
   ],
   "source": [
    "soup = BeautifulSoup(resp.content, features=\"xml\")\n",
    "raw = soup.findAll(\"item\")\n",
    "print(len(raw))"
   ]
  },
  {
   "cell_type": "code",
   "execution_count": 4,
   "metadata": {},
   "outputs": [
    {
     "data": {
      "text/plain": [
       "[<item>\n",
       " <title>Episode 335: Asymptotic Openings</title>\n",
       " <guid isPermaLink=\"false\">348d788d-2f77-44ca-9048-f2cbbb672f46</guid>\n",
       " <description>Dave, Nastassia, and everybody’s favorite punching bag dad Peter Kim ruminate over the hectic opening (at last) of Existing Conditions and its POS POS system, carbonated salsa, Montreal-style bagels, amylase, gelato, that time Peter walked in on Dave, and more!\n",
       " </description>\n",
       " <content:encoded>\n",
       "         &lt;p&gt;Dave, Nastassia, and everybody’s favorite punching bag dad Peter Kim ruminate over the hectic opening (at last) of Existing Conditions and its POS POS system, carbonated salsa, Montreal-style bagels, amylase, gelato, that time Peter walked in on Dave, and more!&lt;/p&gt;\n",
       " \n",
       " &lt;p&gt;&lt;em&gt;Cooking Issues&lt;/em&gt; is powered by &lt;a href=\"https://simplecast.com\"&gt;Simplecast&lt;/a&gt;&lt;/p&gt;\n",
       " \n",
       "       </content:encoded>\n",
       " <pubDate>Tue, 10 Jul 2018 12:57:00 -0400</pubDate>\n",
       " <author>info@heritageradionetwork.org (Heritage Radio Network)</author>\n",
       " <enclosure length=\"53491938\" type=\"audio/mpeg\" url=\"https://audio.simplecast.com/fb4c0ed6.mp3\"/>\n",
       " <itunes:author>Heritage Radio Network</itunes:author>\n",
       " <itunes:image href=\"https://media.simplecast.com/episode/image/167097/1531246480-artwork.jpg\"/>\n",
       " <itunes:duration>00:55:35</itunes:duration>\n",
       " <itunes:summary>Dave, Nastassia, and everybody’s favorite punching bag dad Peter Kim ruminate over the hectic opening (at last) of Existing Conditions and its POS POS system, carbonated salsa, Montreal-style bagels, amylase, gelato, that time Peter walked in on Dave, and more!\n",
       " </itunes:summary>\n",
       " <itunes:subtitle>Dave, Nastassia, and everybody’s favorite punching bag dad Peter Kim ruminate over the hectic opening (at last) of Existing Conditions and its POS POS system, carbonated salsa, Montreal-style bagels, amylase, gelato, that time Peter walked in on Dave, and</itunes:subtitle>\n",
       " <itunes:keywords>Cooking Issues, Dave Arnold, Nastassia Lopez, cooking questions, Booker &amp; Dax, Existing Conditions, Peter Kim, POS systems, salsa, Montreal-style bagels, amylase, gelato</itunes:keywords>\n",
       " <itunes:explicit>no</itunes:explicit>\n",
       " <itunes:episodeType>full</itunes:episodeType>\n",
       " <itunes:episode>335</itunes:episode>\n",
       " </item>, <item>\n",
       " <title>Episode 72: Valentine’s Day</title>\n",
       " <guid isPermaLink=\"false\">http://s3.amazonaws.com/hrn/audios/2318/02_14_12_Cooking_Issues.mp3</guid>\n",
       " <description>This week on Cooking Issues Dave and Nastassia get out their Valentines Day gripes early in the morning. But moreover, Celiac disease sufferers, rejoice! Tune in for an episode all about how you can cook without gluten using xanthan and guar gums and even eggs! Learn about how you can make delicious non-alcoholic cocktails with coriander syrup, why gluten is important in bread making but not so much in cakes and cookies, the necessity of putting foot pedals on your sink and how you can look like a badass sharpening your knives with a leather strop. This episode is sponsored by Modernist Pantry. An easy tip to keeping knives super sharp is get yourself a leather strop and strop your knife, and you can use a little oil or even a little bit of an abrasive. [On cooking with Celiacs disease] the protein in eggs is fantastic and easy to use and can be used to replaced gluten. When you need hardcore gluten is in a bread, in a cake you dont need a lot of it. . in a cookie or a cake you can focus on the texture and structure Dont store anything in your oven, people! It puts you in this mindset that you arent going to use it. The coolest thing that you can possibly do for your kitchen is put foot pedals on your sink, so when your hands are disgusting you dont have to touch anything. And dont skimp on your sink size! --Dave Arnold on Cooking Issues\n",
       " </description>\n",
       " <content:encoded>\n",
       "         &lt;p&gt;This week on Cooking Issues Dave and Nastassia get out their Valentine’s Day gripes early in the morning. But moreover, Celiac disease sufferers, rejoice! Tune in for an episode all about how you can cook without gluten using xanthan and guar gums and even eggs! Learn about how you can make delicious non-alcoholic cocktails with coriander syrup, why gluten is important in bread making but not so much in cakes and cookies, the necessity of putting foot pedals on your sink and how you can look like a badass sharpening your knives with a leather strop. This episode is sponsored by &lt;a href=\"http://www.modernistpantry.com/\"&gt;Modernist Pantry&lt;/a&gt;.&lt;/p&gt;\n",
       " \n",
       " &lt;p&gt;&lt;img src=\"http://img.ehowcdn.com/article-page-main/ehow/images/a08/40/7v/use-leather-strop-800x800.jpg\" alt=\"\" /&gt;&lt;/p&gt;\n",
       " \n",
       " &lt;a name=\"L...An.easy.tip.to.keeping.knives.super.sharp.is.get.yourself.a.leather.strop.and.strop.your.knife..and.you.can.use.a.little.oil.or.even.a.little.bit.of.an.abrasive....\"&gt;&lt;/a&gt;\n",
       " &lt;h2&gt;“An easy tip to keeping knives super sharp is get yourself a leather strop and strop your knife, and you can use a little oil or even a little bit of an abrasive.”&lt;/h2&gt;\n",
       " \n",
       " &lt;p&gt;“[On cooking with Celiac’s disease] the protein in eggs is fantastic and easy to use and can be used to replaced gluten.”&lt;/p&gt;\n",
       " \n",
       " &lt;p&gt;“When you need hardcore gluten is in a bread, in a cake you don’t need a lot of it. . in a cookie or a cake you can focus on the texture and structure”&lt;/p&gt;\n",
       " \n",
       " &lt;p&gt;“Don’t store anything in your oven, people! It puts you in this mindset that you aren’t going to use it.”&lt;/p&gt;\n",
       " \n",
       " &lt;p&gt;“The coolest thing that you can possibly do for your kitchen is put foot pedals on your sink, so when your hands are disgusting you don’t have to touch anything. And don’t skimp on your sink size!”&lt;/p&gt;\n",
       " \n",
       " &lt;p&gt;&lt;em&gt;–Dave Arnold on Cooking Issues&lt;/em&gt;&lt;/p&gt;\n",
       " \n",
       "       </content:encoded>\n",
       " <pubDate>Tue, 14 Feb 2012 12:59:28 -0500</pubDate>\n",
       " <author>info@heritageradionetwork.org (Heritage Radio Network)</author>\n",
       " <enclosure length=\"32672994\" type=\"audio/mpeg\" url=\"https://audio.simplecast.com/32afc643.mp3\"/>\n",
       " <itunes:author>Heritage Radio Network</itunes:author>\n",
       " <itunes:image href=\"https://media.simplecast.com/episode/image/21761/1449187201-artwork.jpg\"/>\n",
       " <itunes:duration>00:45:19</itunes:duration>\n",
       " <itunes:summary>This week on Cooking Issues Dave and Nastassia get out their Valentines Day gripes early in the morning. But moreover, Celiac disease sufferers, rejoice! Tune in for an episode all about how you can cook without gluten using xanthan and guar gums and even eggs! Learn about how you can make delicious non-alcoholic cocktails with coriander syrup, why gluten is important in bread making but not so much in cakes and cookies, the necessity of putting foot pedals on your sink and how you can look like a badass sharpening your knives with a leather strop. This episode is sponsored by Modernist Pantry. An easy tip to keeping knives super sharp is get yourself a leather strop and strop your knife, and you can use a little oil or even a little bit of an abrasive. [On cooking with Celiacs disease] the protein in eggs is fantastic and easy to use and can be used to replaced gluten. When you need hardcore gluten is in a bread, in a cake you dont need a lot of it. . in a cookie or a cake you can focus on the texture and structure Dont store anything in your oven, people! It puts you in this mindset that you arent going to use it. The coolest thing that you can possibly do for your kitchen is put foot pedals on your sink, so when your hands are disgusting you dont have to touch anything. And dont skimp on your sink size! --Dave Arnold on Cooking Issues\n",
       " </itunes:summary>\n",
       " <itunes:subtitle>This week on Cooking Issues Dave and Nastassia get out their Valentines Day gripes early in the morning. But moreover, Celiac disease sufferers, rejoice! Tune in for an episode all about how you can cook without gluten using xanthan and guar gums and even</itunes:subtitle>\n",
       " <itunes:keywords/>\n",
       " <itunes:explicit>no</itunes:explicit>\n",
       " <itunes:episodeType>full</itunes:episodeType>\n",
       " <itunes:episode>72</itunes:episode>\n",
       " </item>, <item>\n",
       " <title>Episode 193: The Holiday Show</title>\n",
       " <guid isPermaLink=\"false\">http://s3.amazonaws.com/hrn/audios/7347/12_16_14_Cooking_Issues.mp3</guid>\n",
       " <description>Dave and Nastassia are back this week to take caller questions on a range of topics including french fry infusion, freezing liquor, and cooking lamb hearts. Dave goes in-depth on low-temp cooling curves and explains the technique for milkwashing vodka in a home kitchen. Later on, Dave answers a caller question on how to make large-format party drinks using a circulator and dry ice. Tune in! The cheapest way to do large quantities of vacuum infusion is to get an HVAC type vacuum pump for around $100 off of eBay and hook it up to a piece of acrylic placed on top of a bain-marie It is very difficult to freeze things with dry ice because dry ice is not a liquid so you cant get complete submersion of your herbs in the freezing medium Dave Arnold on Cooking Issues The best parts of a chicken are definitely the skins and the hearts --Dave Arnold on Cooking Issues\n",
       " </description>\n",
       " <content:encoded>\n",
       "         &lt;p&gt;Dave and Nastassia are back this week to take caller questions on a range of topics including french fry infusion, freezing liquor, and cooking lamb hearts. Dave goes in-depth on low-temp cooling curves and explains the technique for milkwashing vodka in a home kitchen. Later on, Dave answers a caller question on how to make large-format party drinks using a circulator and dry ice. Tune in!&lt;/p&gt;\n",
       " \n",
       " &lt;center&gt;\n",
       " &lt;br&gt;\n",
       " &lt;img src=\"https://s3.amazonaws.com/images.charitybuzz.com/images/157265/detail.jpg_1416950671?1418056738\" width=\"400\"&gt;\n",
       " &lt;/center&gt;\n",
       " \n",
       " \n",
       " &lt;a name=\"L...The.cheapest.way.to.do.large.quantities.of.vacuum.infusion.is.to.get.an.HVAC.type.vacuum.pump.for.around..100.off.of.eBay.and.hook.it.up.to.a.piece.of.acrylic.placed.on.top.of.a.bain-marie...\"&gt;&lt;/a&gt;\n",
       " &lt;h4&gt;“The cheapest way to do large quantities of vacuum infusion is to get an HVAC type vacuum pump for around $100 off of eBay and hook it up to a piece of acrylic placed on top of a bain-marie”&lt;/h4&gt;\n",
       " \n",
       " &lt;p&gt;“It is very difficult to freeze things with dry ice because dry ice is not a liquid so you cant get complete submersion of your herbs in the freezing medium” Dave Arnold on Cooking Issues&lt;/p&gt;\n",
       " \n",
       " &lt;p&gt;“The best parts of a chicken are definitely the skins and the hearts”&lt;/p&gt;\n",
       " \n",
       " &lt;p&gt;&lt;em&gt;–Dave Arnold on Cooking Issues&lt;/em&gt;&lt;/p&gt;\n",
       " \n",
       "       </content:encoded>\n",
       " <pubDate>Tue, 16 Dec 2014 13:18:15 -0500</pubDate>\n",
       " <author>info@heritageradionetwork.org (Heritage Radio Network)</author>\n",
       " <enclosure length=\"38669664\" type=\"audio/mpeg\" url=\"https://audio.simplecast.com/0b11b712.mp3\"/>\n",
       " <itunes:author>Heritage Radio Network</itunes:author>\n",
       " <itunes:image href=\"https://media.simplecast.com/episode/image/21664/1449177452-artwork.jpg\"/>\n",
       " <itunes:duration>00:53:39</itunes:duration>\n",
       " <itunes:summary>Dave and Nastassia are back this week to take caller questions on a range of topics including french fry infusion, freezing liquor, and cooking lamb hearts. Dave goes in-depth on low-temp cooling curves and explains the technique for milkwashing vodka in a home kitchen. Later on, Dave answers a caller question on how to make large-format party drinks using a circulator and dry ice. Tune in! The cheapest way to do large quantities of vacuum infusion is to get an HVAC type vacuum pump for around $100 off of eBay and hook it up to a piece of acrylic placed on top of a bain-marie It is very difficult to freeze things with dry ice because dry ice is not a liquid so you cant get complete submersion of your herbs in the freezing medium Dave Arnold on Cooking Issues The best parts of a chicken are definitely the skins and the hearts --Dave Arnold on Cooking Issues\n",
       " </itunes:summary>\n",
       " <itunes:subtitle>Dave and Nastassia are back this week to take caller questions on a range of topics including french fry infusion, freezing liquor, and cooking lamb hearts. Dave goes in-depth on low-temp cooling curves and explains the technique for milkwashing vodka in </itunes:subtitle>\n",
       " <itunes:keywords/>\n",
       " <itunes:explicit>no</itunes:explicit>\n",
       " <itunes:episodeType>full</itunes:episodeType>\n",
       " <itunes:episode>193</itunes:episode>\n",
       " </item>]"
      ]
     },
     "execution_count": 4,
     "metadata": {},
     "output_type": "execute_result"
    }
   ],
   "source": [
    "random.sample(raw,3)\n"
   ]
  },
  {
   "cell_type": "code",
   "execution_count": 5,
   "metadata": {},
   "outputs": [
    {
     "data": {
      "text/plain": [
       "<item>\n",
       "<title>Episode 38: Bacon Carbonara?</title>\n",
       "<guid isPermaLink=\"false\">http://s3.amazonaws.com/hrn/audios/1494/04_27_11_cooking_issues.mp3</guid>\n",
       "<content:encoded>\n",
       "        &lt;p&gt;&lt;img src=\"http://mayberrydispatches.files.wordpress.com/2011/04/1052_medium.jpg\" alt=\"\" /&gt;&lt;/p&gt;\n",
       "\n",
       "      </content:encoded>\n",
       "<pubDate>Tue, 26 Apr 2011 17:06:41 -0400</pubDate>\n",
       "<author>info@heritageradionetwork.org (Heritage Radio Network)</author>\n",
       "<enclosure length=\"33991133\" type=\"audio/mpeg\" url=\"https://audio.simplecast.com/65c468bc.mp3\"/>\n",
       "<itunes:author>Heritage Radio Network</itunes:author>\n",
       "<itunes:image href=\"https://media.simplecast.com/episode/image/21723/1449183882-artwork.jpg\"/>\n",
       "<itunes:duration>00:47:09</itunes:duration>\n",
       "<itunes:keywords/>\n",
       "<itunes:explicit>no</itunes:explicit>\n",
       "<itunes:episodeType>full</itunes:episodeType>\n",
       "<itunes:episode>38</itunes:episode>\n",
       "</item>"
      ]
     },
     "execution_count": 5,
     "metadata": {},
     "output_type": "execute_result"
    }
   ],
   "source": [
    "raw = raw[::-1]\n",
    "raw[37]"
   ]
  },
  {
   "cell_type": "code",
   "execution_count": 6,
   "metadata": {},
   "outputs": [
    {
     "name": "stdout",
     "output_type": "stream",
     "text": [
      "1 2 3 4 5 6 7 8 9 10\n",
      "11 12 13 14 15 16 17 18 19 20\n",
      "21 22 23 24 25 26 27 28 29 30\n",
      "31 32 33 34 35 36 37 \n",
      "Episode 38 failed because 'NoneType' object has no attribute 'text'\n",
      "38 39 40\n",
      "41 42 43 44 45 46 47 48 49 50\n",
      "51 52 53 54 55 56 57 58 59 60\n",
      "61 62 63 64 65 66 67 68 69 70\n",
      "71 72 73 74 75 76 77 78 79 80\n",
      "81 82 83 84 85 86 87 88 89 90\n",
      "91 92 93 94 95 96 97 98 99 100\n",
      "101 102 103 104 105 106 107 108 109 110\n",
      "111 112 113 114 115 116 117 118 119 120\n",
      "121 122 123 124 125 126 127 128 129 130\n",
      "131 132 133 134 135 136 137 138 139 140\n",
      "141 142 143 144 145 146 147 148 149 150\n",
      "151 152 153 154 155 156 157 158 159 160\n",
      "161 162 163 164 165 166 167 168 169 170\n",
      "171 172 173 174 175 176 177 178 179 180\n",
      "181 182 183 184 185 186 187 188 189 190\n",
      "191 192 193 194 195 196 197 198 199 200\n",
      "201 202 203 204 205 206 207 208 209 210\n",
      "211 212 213 214 215 216 217 218 219 220\n",
      "221 222 223 224 225 226 227 228 229 230\n",
      "231 232 233 234 235 236 237 238 239 240\n",
      "241 242 243 244 245 246 247 248 249 250\n",
      "251 252 253 254 255 256 257 258 259 260\n",
      "261 262 263 264 265 266 267 268 269 270\n",
      "271 272 273 274 275 276 277 278 279 280\n",
      "281 282 283 284 285 286 287 288 289 290\n",
      "291 292 293 294 295 296 297 298 299 300\n",
      "301 302 303 304 305 306 307 308 309 310\n",
      "311 312 313 314 315 316 317 318 319 320\n",
      "321 322 323 324 325 326 327 328 329 330\n",
      "331 332 333 334 335 336 337 338 339 340\n",
      "341 342 343 344 345 346 347 348 349 350\n",
      "351 352 353 354 355 356 357 358 359 360\n",
      "361 362 363 364 365 366 367 368 369 370\n",
      "371 372 373 374 "
     ]
    }
   ],
   "source": [
    "podcasts = []\n",
    "\n",
    "for podcast in raw:\n",
    "    pod = {}\n",
    "    pod['title'] = podcast.title.text\n",
    "    pod['episode'] = int(podcast.episode.text)\n",
    "    pod['pubDate'] = podcast.pubDate.text\n",
    "    pod['encoded'] = podcast.encoded.text    \n",
    "    pod['duration'] = podcast.duration.text    \n",
    "    pod['keywords'] = podcast.keywords.text\n",
    "    pod['image'] = podcast.image['href']\n",
    "    pod['url'] = podcast.enclosure['url']\n",
    "    pod['length'] = int(podcast.enclosure['length'])\n",
    "    try: \n",
    "        pod['description'] = podcast.description.text \n",
    "    except AttributeError as err:\n",
    "        print()\n",
    "        print(\"Episode \" + str(pod['episode']) + \" failed because \" + str(err))\n",
    "    \n",
    "    if pod['episode']%10==0:\n",
    "        print(pod['episode'])    \n",
    "    else:\n",
    "        print(pod['episode'], end=\" \")\n",
    "    podcasts.append(pod)\n",
    "\n"
   ]
  },
  {
   "cell_type": "code",
   "execution_count": 7,
   "metadata": {},
   "outputs": [
    {
     "data": {
      "text/plain": [
       "{'title': 'Episode 70: Get To Know Your Knife',\n",
       " 'episode': 70,\n",
       " 'pubDate': 'Tue, 31 Jan 2012 12:56:06 -0500',\n",
       " 'encoded': '\\n        <p>This week on Cooking Issues Dave gets on point in teaching you how to sharpen your fine kitchen knives from all over the world– from Japan to the West. Did you know that Japanese knives are traditionally only right-handed? Later on, all your questions about dry aging fish and poultry, venison sausage, and the usefulness of spherical ice cubes are answered. Learn all about how war made food evolve, Dave’s new bar at Momofuku Ssam, as well as his thoughts on Yelp! reviews. This episode is sponsored by <a href=\"http://www.modernistpantry.com/\">The Modernist Pantry</a>.</p>\\n\\n<p><img src=\"http://static.flickr.com/66/164639239_8d189f308c.jpg\" alt=\"\" /></p>\\n\\n<a name=\"L...Fish.is.best.when.fish.is.best..not.necessarily.when.it...s.the.freshest....\"></a>\\n<h2>“Fish is best when fish is best, not necessarily when it’s the freshest.”</h2>\\n\\n<p><em>–Dave Arnold on Cooking Issues</em></p>\\n\\n      ',\n",
       " 'duration': '00:45:50',\n",
       " 'keywords': '',\n",
       " 'image': 'https://media.simplecast.com/episode/image/21759/1449187063-artwork.jpg',\n",
       " 'url': 'https://audio.simplecast.com/e674111a.mp3',\n",
       " 'length': 33041634,\n",
       " 'description': 'This week on Cooking Issues Dave gets on point in teaching you how to sharpen your fine kitchen knives from all over the world-- from Japan to the West. Did you know that Japanese knives are traditionally only right-handed? Later on, all your questions about dry aging fish and poultry, venison sausage, and the usefulness of spherical ice cubes are answered. Learn all about how war made food evolve, Daves new bar at Momofuku Ssam, as well as his thoughts on Yelp! reviews. This episode is sponsored by The Modernist Pantry. Fish is best when fish is best, not necessarily when its the freshest. --Dave Arnold on Cooking Issues\\n'}"
      ]
     },
     "execution_count": 7,
     "metadata": {},
     "output_type": "execute_result"
    }
   ],
   "source": [
    "random.sample(podcasts,2)\n",
    "podcasts[69]"
   ]
  },
  {
   "cell_type": "code",
   "execution_count": 8,
   "metadata": {},
   "outputs": [],
   "source": [
    "from tqdm import tnrange, tqdm_notebook\n",
    "\n",
    "def download(url, file_name):\n",
    "    # open in binary mode\n",
    "    with open(file_name, \"wb\") as f:\n",
    "        # get request\n",
    "        response = requests.get(url, stream=True)\n",
    "        file_size = int(response.headers.get('content-length', 0))\n",
    "\n",
    "        with tqdm_notebook(total=file_size, unit='KB',\n",
    "            unit_scale=True, unit_divisor=1024,\n",
    "            desc=file_name, initial=0, # leave=False, \n",
    "            miniters=1) as pbar:\n",
    "            for chunk in response.iter_content(32 * 1024):\n",
    "                f.write(chunk)\n",
    "                pbar.update(len(chunk))"
   ]
  },
  {
   "cell_type": "code",
   "execution_count": 9,
   "metadata": {},
   "outputs": [],
   "source": [
    "#rand_pod = random.sample(podcasts,1)[0]\n",
    "#download(rand_pod['image'], \"Episode \"+str(rand_pod['episode'])+\".jpg\")"
   ]
  },
  {
   "cell_type": "code",
   "execution_count": 10,
   "metadata": {},
   "outputs": [],
   "source": [
    "#download(rand_pod['url'], \"Episode \"+str(rand_pod['episode'])+\".mp3\")"
   ]
  },
  {
   "cell_type": "code",
   "execution_count": 11,
   "metadata": {},
   "outputs": [
    {
     "name": "stdout",
     "output_type": "stream",
     "text": [
      "15453.6301MB at approximately 100-10MB/s will take between 2.57561 and 25.7561 minutes\n"
     ]
    }
   ],
   "source": [
    "MB_pod = 0\n",
    "dl_estimate = (100,10)\n",
    "for pod in podcasts:\n",
    "    MB_pod += int(pod['length'])\n",
    "\n",
    "MB_pod /= 1000000\n",
    "\n",
    "time_est = (MB_pod/dl_estimate[0])/60, (MB_pod/dl_estimate[1])/60\n",
    "ans = f'{MB_pod:.9}MB at approximately {dl_estimate[0]}-{dl_estimate[1]}MB/s will take between {time_est[0]:.6} and {time_est[1]:.6} minutes'\n",
    "print(ans)"
   ]
  },
  {
   "cell_type": "code",
   "execution_count": 13,
   "metadata": {},
   "outputs": [
    {
     "data": {
      "application/vnd.jupyter.widget-view+json": {
       "model_id": "a5ef3647620f452b9e41ce02df2c1f9c",
       "version_major": 2,
       "version_minor": 0
      },
      "text/plain": [
       "HBox(children=(IntProgress(value=0, description='Downloading podcasts...', max=374, style=ProgressStyle(descri…"
      ]
     },
     "metadata": {},
     "output_type": "display_data"
    },
    {
     "data": {
      "application/vnd.jupyter.widget-view+json": {
       "model_id": "30d3a7c148774bd4a4b06c63de278996",
       "version_major": 2,
       "version_minor": 0
      },
      "text/plain": [
       "HBox(children=(IntProgress(value=0, description='Episode 322.mp3', max=36912750, style=ProgressStyle(descripti…"
      ]
     },
     "metadata": {},
     "output_type": "display_data"
    },
    {
     "data": {
      "application/vnd.jupyter.widget-view+json": {
       "model_id": "2191f8bc3cab4e3cabcca2fd3261774b",
       "version_major": 2,
       "version_minor": 0
      },
      "text/plain": [
       "HBox(children=(IntProgress(value=0, description='Episode 322.jpg', max=1043686, style=ProgressStyle(descriptio…"
      ]
     },
     "metadata": {},
     "output_type": "display_data"
    },
    {
     "data": {
      "application/vnd.jupyter.widget-view+json": {
       "model_id": "ef1bf4a60e86436a9c65bfb9dba17239",
       "version_major": 2,
       "version_minor": 0
      },
      "text/plain": [
       "HBox(children=(IntProgress(value=0, description='Episode 323.mp3', max=55946817, style=ProgressStyle(descripti…"
      ]
     },
     "metadata": {},
     "output_type": "display_data"
    },
    {
     "data": {
      "application/vnd.jupyter.widget-view+json": {
       "model_id": "bf5e740f4edf474ca66fef614078804d",
       "version_major": 2,
       "version_minor": 0
      },
      "text/plain": [
       "HBox(children=(IntProgress(value=0, description='Episode 323.jpg', max=2380237, style=ProgressStyle(descriptio…"
      ]
     },
     "metadata": {},
     "output_type": "display_data"
    },
    {
     "data": {
      "application/vnd.jupyter.widget-view+json": {
       "model_id": "1c3a73b28b364a929fee04948fb25901",
       "version_major": 2,
       "version_minor": 0
      },
      "text/plain": [
       "HBox(children=(IntProgress(value=0, description='Episode 324.mp3', max=37362795, style=ProgressStyle(descripti…"
      ]
     },
     "metadata": {},
     "output_type": "display_data"
    },
    {
     "data": {
      "application/vnd.jupyter.widget-view+json": {
       "model_id": "0e134d3c63b946f78bd74655c03244b8",
       "version_major": 2,
       "version_minor": 0
      },
      "text/plain": [
       "HBox(children=(IntProgress(value=0, description='Episode 324.jpg', max=1677013, style=ProgressStyle(descriptio…"
      ]
     },
     "metadata": {},
     "output_type": "display_data"
    },
    {
     "data": {
      "application/vnd.jupyter.widget-view+json": {
       "model_id": "8a295744d1044751b68e3dc790beaa6b",
       "version_major": 2,
       "version_minor": 0
      },
      "text/plain": [
       "HBox(children=(IntProgress(value=0, description='Episode 325.mp3', max=35031348, style=ProgressStyle(descripti…"
      ]
     },
     "metadata": {},
     "output_type": "display_data"
    },
    {
     "data": {
      "application/vnd.jupyter.widget-view+json": {
       "model_id": "647dd05dd8864535b31e3e98e30afe73",
       "version_major": 2,
       "version_minor": 0
      },
      "text/plain": [
       "HBox(children=(IntProgress(value=0, description='Episode 325.jpg', max=1066931, style=ProgressStyle(descriptio…"
      ]
     },
     "metadata": {},
     "output_type": "display_data"
    },
    {
     "data": {
      "application/vnd.jupyter.widget-view+json": {
       "model_id": "cadec1d49e564841813d0b69c73aebd2",
       "version_major": 2,
       "version_minor": 0
      },
      "text/plain": [
       "HBox(children=(IntProgress(value=0, description='Episode 326.mp3', max=51476577, style=ProgressStyle(descripti…"
      ]
     },
     "metadata": {},
     "output_type": "display_data"
    },
    {
     "data": {
      "application/vnd.jupyter.widget-view+json": {
       "model_id": "ff95a5d65011405cb4b6de2470df0470",
       "version_major": 2,
       "version_minor": 0
      },
      "text/plain": [
       "HBox(children=(IntProgress(value=0, description='Episode 326.jpg', max=1331934, style=ProgressStyle(descriptio…"
      ]
     },
     "metadata": {},
     "output_type": "display_data"
    },
    {
     "data": {
      "application/vnd.jupyter.widget-view+json": {
       "model_id": "03c0e441347e4087a9873de8d5b31aec",
       "version_major": 2,
       "version_minor": 0
      },
      "text/plain": [
       "HBox(children=(IntProgress(value=0, description='Episode 327.mp3', max=46673154, style=ProgressStyle(descripti…"
      ]
     },
     "metadata": {},
     "output_type": "display_data"
    },
    {
     "data": {
      "application/vnd.jupyter.widget-view+json": {
       "model_id": "f3b99d968b26406ea654779524304dd8",
       "version_major": 2,
       "version_minor": 0
      },
      "text/plain": [
       "HBox(children=(IntProgress(value=0, description='Episode 327.jpg', max=1564998, style=ProgressStyle(descriptio…"
      ]
     },
     "metadata": {},
     "output_type": "display_data"
    },
    {
     "data": {
      "application/vnd.jupyter.widget-view+json": {
       "model_id": "afd6827df16c407bb6c6191404ecf1c4",
       "version_major": 2,
       "version_minor": 0
      },
      "text/plain": [
       "HBox(children=(IntProgress(value=0, description='Episode 328.mp3', max=53303454, style=ProgressStyle(descripti…"
      ]
     },
     "metadata": {},
     "output_type": "display_data"
    },
    {
     "data": {
      "application/vnd.jupyter.widget-view+json": {
       "model_id": "93d3840df80b46c383dad5798212a2c6",
       "version_major": 2,
       "version_minor": 0
      },
      "text/plain": [
       "HBox(children=(IntProgress(value=0, description='Episode 328.jpg', max=2320485, style=ProgressStyle(descriptio…"
      ]
     },
     "metadata": {},
     "output_type": "display_data"
    },
    {
     "data": {
      "application/vnd.jupyter.widget-view+json": {
       "model_id": "8e140d5006044f7a8c5b3a16274ef975",
       "version_major": 2,
       "version_minor": 0
      },
      "text/plain": [
       "HBox(children=(IntProgress(value=0, description='Episode 329.mp3', max=55243755, style=ProgressStyle(descripti…"
      ]
     },
     "metadata": {},
     "output_type": "display_data"
    },
    {
     "data": {
      "application/vnd.jupyter.widget-view+json": {
       "model_id": "8656d4bb59ff44eaa70af4f665f1ca05",
       "version_major": 2,
       "version_minor": 0
      },
      "text/plain": [
       "HBox(children=(IntProgress(value=0, description='Episode 329.jpg', max=1419988, style=ProgressStyle(descriptio…"
      ]
     },
     "metadata": {},
     "output_type": "display_data"
    },
    {
     "data": {
      "application/vnd.jupyter.widget-view+json": {
       "model_id": "2278f47c2d344b34ab45c408744b0580",
       "version_major": 2,
       "version_minor": 0
      },
      "text/plain": [
       "HBox(children=(IntProgress(value=0, description='Episode 330.mp3', max=45886275, style=ProgressStyle(descripti…"
      ]
     },
     "metadata": {},
     "output_type": "display_data"
    },
    {
     "data": {
      "application/vnd.jupyter.widget-view+json": {
       "model_id": "d3b89350cc03495c84ab51f5d2b35e57",
       "version_major": 2,
       "version_minor": 0
      },
      "text/plain": [
       "HBox(children=(IntProgress(value=0, description='Episode 330.jpg', max=1537351, style=ProgressStyle(descriptio…"
      ]
     },
     "metadata": {},
     "output_type": "display_data"
    },
    {
     "data": {
      "application/vnd.jupyter.widget-view+json": {
       "model_id": "e7c1c1d81c774861a0995f673eb96682",
       "version_major": 2,
       "version_minor": 0
      },
      "text/plain": [
       "HBox(children=(IntProgress(value=0, description='Episode 331.mp3', max=46741542, style=ProgressStyle(descripti…"
      ]
     },
     "metadata": {},
     "output_type": "display_data"
    },
    {
     "data": {
      "application/vnd.jupyter.widget-view+json": {
       "model_id": "f590d5da8a68402cbf0bbcfaaa141e50",
       "version_major": 2,
       "version_minor": 0
      },
      "text/plain": [
       "HBox(children=(IntProgress(value=0, description='Episode 331.jpg', max=930462, style=ProgressStyle(description…"
      ]
     },
     "metadata": {},
     "output_type": "display_data"
    },
    {
     "data": {
      "application/vnd.jupyter.widget-view+json": {
       "model_id": "9a21c02e966241c5aadf458ab52afd49",
       "version_major": 2,
       "version_minor": 0
      },
      "text/plain": [
       "HBox(children=(IntProgress(value=0, description='Episode 332.mp3', max=43899687, style=ProgressStyle(descripti…"
      ]
     },
     "metadata": {},
     "output_type": "display_data"
    },
    {
     "data": {
      "application/vnd.jupyter.widget-view+json": {
       "model_id": "0b5ac189b53e4ff4ad4f7810c6bb649a",
       "version_major": 2,
       "version_minor": 0
      },
      "text/plain": [
       "HBox(children=(IntProgress(value=0, description='Episode 332.jpg', max=1113016, style=ProgressStyle(descriptio…"
      ]
     },
     "metadata": {},
     "output_type": "display_data"
    },
    {
     "data": {
      "application/vnd.jupyter.widget-view+json": {
       "model_id": "67196b04e84b4514b4ce6d6beff54757",
       "version_major": 2,
       "version_minor": 0
      },
      "text/plain": [
       "HBox(children=(IntProgress(value=0, description='Episode 333.mp3', max=47749848, style=ProgressStyle(descripti…"
      ]
     },
     "metadata": {},
     "output_type": "display_data"
    },
    {
     "data": {
      "application/vnd.jupyter.widget-view+json": {
       "model_id": "3787a691ddf9467bb677901f06b9e22b",
       "version_major": 2,
       "version_minor": 0
      },
      "text/plain": [
       "HBox(children=(IntProgress(value=0, description='Episode 333.jpg', max=1478242, style=ProgressStyle(descriptio…"
      ]
     },
     "metadata": {},
     "output_type": "display_data"
    },
    {
     "data": {
      "application/vnd.jupyter.widget-view+json": {
       "model_id": "739b447751cf4396aad5418ca1903532",
       "version_major": 2,
       "version_minor": 0
      },
      "text/plain": [
       "HBox(children=(IntProgress(value=0, description='Episode 334.mp3', max=38324397, style=ProgressStyle(descripti…"
      ]
     },
     "metadata": {},
     "output_type": "display_data"
    },
    {
     "data": {
      "application/vnd.jupyter.widget-view+json": {
       "model_id": "fd8096b0a7ce408fa4d228191f4fc62c",
       "version_major": 2,
       "version_minor": 0
      },
      "text/plain": [
       "HBox(children=(IntProgress(value=0, description='Episode 334.jpg', max=1207728, style=ProgressStyle(descriptio…"
      ]
     },
     "metadata": {},
     "output_type": "display_data"
    },
    {
     "data": {
      "application/vnd.jupyter.widget-view+json": {
       "model_id": "decd6e342d114e51a613e91441195c64",
       "version_major": 2,
       "version_minor": 0
      },
      "text/plain": [
       "HBox(children=(IntProgress(value=0, description='Episode 335.mp3', max=53491938, style=ProgressStyle(descripti…"
      ]
     },
     "metadata": {},
     "output_type": "display_data"
    },
    {
     "data": {
      "application/vnd.jupyter.widget-view+json": {
       "model_id": "3c2fe03ba0cd42f39b734fdc9a176023",
       "version_major": 2,
       "version_minor": 0
      },
      "text/plain": [
       "HBox(children=(IntProgress(value=0, description='Episode 335.jpg', max=1182173, style=ProgressStyle(descriptio…"
      ]
     },
     "metadata": {},
     "output_type": "display_data"
    },
    {
     "data": {
      "application/vnd.jupyter.widget-view+json": {
       "model_id": "2dcb171775ee48c18615077308646282",
       "version_major": 2,
       "version_minor": 0
      },
      "text/plain": [
       "HBox(children=(IntProgress(value=0, description='Episode 336.mp3', max=52898130, style=ProgressStyle(descripti…"
      ]
     },
     "metadata": {},
     "output_type": "display_data"
    },
    {
     "data": {
      "application/vnd.jupyter.widget-view+json": {
       "model_id": "df37fc9f88ef4563b0d590a7db2d314d",
       "version_major": 2,
       "version_minor": 0
      },
      "text/plain": [
       "HBox(children=(IntProgress(value=0, description='Episode 336.jpg', max=2390744, style=ProgressStyle(descriptio…"
      ]
     },
     "metadata": {},
     "output_type": "display_data"
    },
    {
     "data": {
      "application/vnd.jupyter.widget-view+json": {
       "model_id": "af8428620d654ff7a36f7c636774955a",
       "version_major": 2,
       "version_minor": 0
      },
      "text/plain": [
       "HBox(children=(IntProgress(value=0, description='Episode 337.mp3', max=51535374, style=ProgressStyle(descripti…"
      ]
     },
     "metadata": {},
     "output_type": "display_data"
    },
    {
     "data": {
      "application/vnd.jupyter.widget-view+json": {
       "model_id": "c803699e77e84713ae6bd83f28d115fd",
       "version_major": 2,
       "version_minor": 0
      },
      "text/plain": [
       "HBox(children=(IntProgress(value=0, description='Episode 337.jpg', max=1541128, style=ProgressStyle(descriptio…"
      ]
     },
     "metadata": {},
     "output_type": "display_data"
    },
    {
     "data": {
      "application/vnd.jupyter.widget-view+json": {
       "model_id": "b0ac90c3850240a69a2a3c30ca7be433",
       "version_major": 2,
       "version_minor": 0
      },
      "text/plain": [
       "HBox(children=(IntProgress(value=0, description='Episode 338.mp3', max=38868999, style=ProgressStyle(descripti…"
      ]
     },
     "metadata": {},
     "output_type": "display_data"
    },
    {
     "data": {
      "application/vnd.jupyter.widget-view+json": {
       "model_id": "81ebc2ef92584da2a2dfd3a0070e75bd",
       "version_major": 2,
       "version_minor": 0
      },
      "text/plain": [
       "HBox(children=(IntProgress(value=0, description='Episode 338.jpg', max=1290684, style=ProgressStyle(descriptio…"
      ]
     },
     "metadata": {},
     "output_type": "display_data"
    },
    {
     "data": {
      "application/vnd.jupyter.widget-view+json": {
       "model_id": "e80de00134b04ca08ddb8c9c7cef2a89",
       "version_major": 2,
       "version_minor": 0
      },
      "text/plain": [
       "HBox(children=(IntProgress(value=0, description='Episode 339.mp3', max=33618135, style=ProgressStyle(descripti…"
      ]
     },
     "metadata": {},
     "output_type": "display_data"
    },
    {
     "data": {
      "application/vnd.jupyter.widget-view+json": {
       "model_id": "dd05b8b69e7d4a43b2397eecf81dd866",
       "version_major": 2,
       "version_minor": 0
      },
      "text/plain": [
       "HBox(children=(IntProgress(value=0, description='Episode 339.jpg', max=1336914, style=ProgressStyle(descriptio…"
      ]
     },
     "metadata": {},
     "output_type": "display_data"
    },
    {
     "data": {
      "application/vnd.jupyter.widget-view+json": {
       "model_id": "d54a09ba5ff84c98ab70455477e876f1",
       "version_major": 2,
       "version_minor": 0
      },
      "text/plain": [
       "HBox(children=(IntProgress(value=0, description='Episode 340.mp3', max=21120228, style=ProgressStyle(descripti…"
      ]
     },
     "metadata": {},
     "output_type": "display_data"
    },
    {
     "data": {
      "application/vnd.jupyter.widget-view+json": {
       "model_id": "3a2691dc5f114ba89a3725c9544ddcbc",
       "version_major": 2,
       "version_minor": 0
      },
      "text/plain": [
       "HBox(children=(IntProgress(value=0, description='Episode 340.jpg', max=1120181, style=ProgressStyle(descriptio…"
      ]
     },
     "metadata": {},
     "output_type": "display_data"
    },
    {
     "data": {
      "application/vnd.jupyter.widget-view+json": {
       "model_id": "dc8c9861963c48079cb4c83a522e37ab",
       "version_major": 2,
       "version_minor": 0
      },
      "text/plain": [
       "HBox(children=(IntProgress(value=0, description='Episode 341.mp3', max=32436357, style=ProgressStyle(descripti…"
      ]
     },
     "metadata": {},
     "output_type": "display_data"
    },
    {
     "data": {
      "application/vnd.jupyter.widget-view+json": {
       "model_id": "253053eec63442bcb25a4c90892d5194",
       "version_major": 2,
       "version_minor": 0
      },
      "text/plain": [
       "HBox(children=(IntProgress(value=0, description='Episode 341.jpg', max=553588, style=ProgressStyle(description…"
      ]
     },
     "metadata": {},
     "output_type": "display_data"
    },
    {
     "data": {
      "application/vnd.jupyter.widget-view+json": {
       "model_id": "63c94dcdfc594326b23c9ca25431b625",
       "version_major": 2,
       "version_minor": 0
      },
      "text/plain": [
       "HBox(children=(IntProgress(value=0, description='Episode 342.mp3', max=52557024, style=ProgressStyle(descripti…"
      ]
     },
     "metadata": {},
     "output_type": "display_data"
    },
    {
     "data": {
      "application/vnd.jupyter.widget-view+json": {
       "model_id": "9580ae302f56496a9277f4d5c54d60c4",
       "version_major": 2,
       "version_minor": 0
      },
      "text/plain": [
       "HBox(children=(IntProgress(value=0, description='Episode 342.jpg', max=928294, style=ProgressStyle(description…"
      ]
     },
     "metadata": {},
     "output_type": "display_data"
    },
    {
     "data": {
      "application/vnd.jupyter.widget-view+json": {
       "model_id": "5e786db4bde244f994a858d3d1c681bf",
       "version_major": 2,
       "version_minor": 0
      },
      "text/plain": [
       "HBox(children=(IntProgress(value=0, description='Episode 343.mp3', max=46242810, style=ProgressStyle(descripti…"
      ]
     },
     "metadata": {},
     "output_type": "display_data"
    },
    {
     "data": {
      "application/vnd.jupyter.widget-view+json": {
       "model_id": "3460020e5ec849ae8d87afed7be63343",
       "version_major": 2,
       "version_minor": 0
      },
      "text/plain": [
       "HBox(children=(IntProgress(value=0, description='Episode 343.jpg', max=1771369, style=ProgressStyle(descriptio…"
      ]
     },
     "metadata": {},
     "output_type": "display_data"
    },
    {
     "data": {
      "application/vnd.jupyter.widget-view+json": {
       "model_id": "f41782fab8c74ea4ababc83370290c2d",
       "version_major": 2,
       "version_minor": 0
      },
      "text/plain": [
       "HBox(children=(IntProgress(value=0, description='Episode 344.mp3', max=46704429, style=ProgressStyle(descripti…"
      ]
     },
     "metadata": {},
     "output_type": "display_data"
    },
    {
     "data": {
      "application/vnd.jupyter.widget-view+json": {
       "model_id": "3f51b5ef05dc40788a61b1e450eec1d3",
       "version_major": 2,
       "version_minor": 0
      },
      "text/plain": [
       "HBox(children=(IntProgress(value=0, description='Episode 344.jpg', max=1463539, style=ProgressStyle(descriptio…"
      ]
     },
     "metadata": {},
     "output_type": "display_data"
    },
    {
     "data": {
      "application/vnd.jupyter.widget-view+json": {
       "model_id": "3d5c67c1cbe9462085b6a198bd5fd1d9",
       "version_major": 2,
       "version_minor": 0
      },
      "text/plain": [
       "HBox(children=(IntProgress(value=0, description='Episode 345.mp3', max=47156874, style=ProgressStyle(descripti…"
      ]
     },
     "metadata": {},
     "output_type": "display_data"
    },
    {
     "data": {
      "application/vnd.jupyter.widget-view+json": {
       "model_id": "9c7790fc40b04789b9fa3468b3b5f878",
       "version_major": 2,
       "version_minor": 0
      },
      "text/plain": [
       "HBox(children=(IntProgress(value=0, description='Episode 345.jpg', max=1162857, style=ProgressStyle(descriptio…"
      ]
     },
     "metadata": {},
     "output_type": "display_data"
    },
    {
     "data": {
      "application/vnd.jupyter.widget-view+json": {
       "model_id": "0dd57f4b6855464b9c872b9ebf500b90",
       "version_major": 2,
       "version_minor": 0
      },
      "text/plain": [
       "HBox(children=(IntProgress(value=0, description='Episode 346.mp3', max=54706242, style=ProgressStyle(descripti…"
      ]
     },
     "metadata": {},
     "output_type": "display_data"
    },
    {
     "data": {
      "application/vnd.jupyter.widget-view+json": {
       "model_id": "24b6add5be09401db87ad18370edd5b6",
       "version_major": 2,
       "version_minor": 0
      },
      "text/plain": [
       "HBox(children=(IntProgress(value=0, description='Episode 346.jpg', max=1383990, style=ProgressStyle(descriptio…"
      ]
     },
     "metadata": {},
     "output_type": "display_data"
    },
    {
     "data": {
      "application/vnd.jupyter.widget-view+json": {
       "model_id": "2e624b67b1f64856bfb35b39cdb997b6",
       "version_major": 2,
       "version_minor": 0
      },
      "text/plain": [
       "HBox(children=(IntProgress(value=0, description='Episode 347.mp3', max=36054666, style=ProgressStyle(descripti…"
      ]
     },
     "metadata": {},
     "output_type": "display_data"
    },
    {
     "data": {
      "application/vnd.jupyter.widget-view+json": {
       "model_id": "2c4da4e6ae594d0da6121cafa1130dec",
       "version_major": 2,
       "version_minor": 0
      },
      "text/plain": [
       "HBox(children=(IntProgress(value=0, description='Episode 347.jpg', max=1687142, style=ProgressStyle(descriptio…"
      ]
     },
     "metadata": {},
     "output_type": "display_data"
    },
    {
     "data": {
      "application/vnd.jupyter.widget-view+json": {
       "model_id": "b0b43295bc1f43089934effb6a8496c5",
       "version_major": 2,
       "version_minor": 0
      },
      "text/plain": [
       "HBox(children=(IntProgress(value=0, description='Episode 348.mp3', max=25813980, style=ProgressStyle(descripti…"
      ]
     },
     "metadata": {},
     "output_type": "display_data"
    },
    {
     "data": {
      "application/vnd.jupyter.widget-view+json": {
       "model_id": "6847ad3fe51b47c79eddcfbd7a8a4c05",
       "version_major": 2,
       "version_minor": 0
      },
      "text/plain": [
       "HBox(children=(IntProgress(value=0, description='Episode 348.jpg', max=871280, style=ProgressStyle(description…"
      ]
     },
     "metadata": {},
     "output_type": "display_data"
    },
    {
     "data": {
      "application/vnd.jupyter.widget-view+json": {
       "model_id": "69c52d0ea1bb4c48915699c514a6161d",
       "version_major": 2,
       "version_minor": 0
      },
      "text/plain": [
       "HBox(children=(IntProgress(value=0, description='Episode 349.mp3', max=44019783, style=ProgressStyle(descripti…"
      ]
     },
     "metadata": {},
     "output_type": "display_data"
    },
    {
     "data": {
      "application/vnd.jupyter.widget-view+json": {
       "model_id": "5e5f402e57be46f19cc65822f14a9692",
       "version_major": 2,
       "version_minor": 0
      },
      "text/plain": [
       "HBox(children=(IntProgress(value=0, description='Episode 349.jpg', max=3268440, style=ProgressStyle(descriptio…"
      ]
     },
     "metadata": {},
     "output_type": "display_data"
    },
    {
     "data": {
      "application/vnd.jupyter.widget-view+json": {
       "model_id": "c46e084a45204f97a701e1db3c72071d",
       "version_major": 2,
       "version_minor": 0
      },
      "text/plain": [
       "HBox(children=(IntProgress(value=0, description='Episode 350.mp3', max=45901287, style=ProgressStyle(descripti…"
      ]
     },
     "metadata": {},
     "output_type": "display_data"
    },
    {
     "data": {
      "application/vnd.jupyter.widget-view+json": {
       "model_id": "5ec725d5c59f4c338c02891674abb376",
       "version_major": 2,
       "version_minor": 0
      },
      "text/plain": [
       "HBox(children=(IntProgress(value=0, description='Episode 350.jpg', max=831309, style=ProgressStyle(description…"
      ]
     },
     "metadata": {},
     "output_type": "display_data"
    },
    {
     "data": {
      "application/vnd.jupyter.widget-view+json": {
       "model_id": "85c967f6bf7b4fb19812264363fdd821",
       "version_major": 2,
       "version_minor": 0
      },
      "text/plain": [
       "HBox(children=(IntProgress(value=0, description='Episode 351.mp3', max=44694906, style=ProgressStyle(descripti…"
      ]
     },
     "metadata": {},
     "output_type": "display_data"
    },
    {
     "data": {
      "application/vnd.jupyter.widget-view+json": {
       "model_id": "806f0126df79456ead75fbb2d518dce9",
       "version_major": 2,
       "version_minor": 0
      },
      "text/plain": [
       "HBox(children=(IntProgress(value=0, description='Episode 351.jpg', max=1818477, style=ProgressStyle(descriptio…"
      ]
     },
     "metadata": {},
     "output_type": "display_data"
    },
    {
     "data": {
      "application/vnd.jupyter.widget-view+json": {
       "model_id": "916ed9349511471eb021dfd1feeb9d80",
       "version_major": 2,
       "version_minor": 0
      },
      "text/plain": [
       "HBox(children=(IntProgress(value=0, description='Episode 352.mp3', max=40846830, style=ProgressStyle(descripti…"
      ]
     },
     "metadata": {},
     "output_type": "display_data"
    },
    {
     "data": {
      "application/vnd.jupyter.widget-view+json": {
       "model_id": "1314dc3015124f46b7a1e000e4a0a4a4",
       "version_major": 2,
       "version_minor": 0
      },
      "text/plain": [
       "HBox(children=(IntProgress(value=0, description='Episode 352.jpg', max=1587633, style=ProgressStyle(descriptio…"
      ]
     },
     "metadata": {},
     "output_type": "display_data"
    },
    {
     "data": {
      "application/vnd.jupyter.widget-view+json": {
       "model_id": "ac9eba632c4d43b39f855109fa10d33d",
       "version_major": 2,
       "version_minor": 0
      },
      "text/plain": [
       "HBox(children=(IntProgress(value=0, description='Episode 353.mp3', max=50760171, style=ProgressStyle(descripti…"
      ]
     },
     "metadata": {},
     "output_type": "display_data"
    },
    {
     "data": {
      "application/vnd.jupyter.widget-view+json": {
       "model_id": "7a7d50961cda41bc89bf368c1b9d2fe7",
       "version_major": 2,
       "version_minor": 0
      },
      "text/plain": [
       "HBox(children=(IntProgress(value=0, description='Episode 353.jpg', max=2293397, style=ProgressStyle(descriptio…"
      ]
     },
     "metadata": {},
     "output_type": "display_data"
    },
    {
     "data": {
      "application/vnd.jupyter.widget-view+json": {
       "model_id": "945f32da9d1f4d359dc207e5ee382440",
       "version_major": 2,
       "version_minor": 0
      },
      "text/plain": [
       "HBox(children=(IntProgress(value=0, description='Episode 354.mp3', max=39111693, style=ProgressStyle(descripti…"
      ]
     },
     "metadata": {},
     "output_type": "display_data"
    },
    {
     "data": {
      "application/vnd.jupyter.widget-view+json": {
       "model_id": "17c7384b150b4c23949caa8efa2825a4",
       "version_major": 2,
       "version_minor": 0
      },
      "text/plain": [
       "HBox(children=(IntProgress(value=0, description='Episode 354.jpg', max=1902267, style=ProgressStyle(descriptio…"
      ]
     },
     "metadata": {},
     "output_type": "display_data"
    },
    {
     "data": {
      "application/vnd.jupyter.widget-view+json": {
       "model_id": "8d63323f714f4fb6a12030af2598f722",
       "version_major": 2,
       "version_minor": 0
      },
      "text/plain": [
       "HBox(children=(IntProgress(value=0, description='Episode 355.mp3', max=26946552, style=ProgressStyle(descripti…"
      ]
     },
     "metadata": {},
     "output_type": "display_data"
    },
    {
     "data": {
      "application/vnd.jupyter.widget-view+json": {
       "model_id": "d7eb9e95d0a6445c89d5548da982982e",
       "version_major": 2,
       "version_minor": 0
      },
      "text/plain": [
       "HBox(children=(IntProgress(value=0, description='Episode 355.jpg', max=2169264, style=ProgressStyle(descriptio…"
      ]
     },
     "metadata": {},
     "output_type": "display_data"
    },
    {
     "data": {
      "application/vnd.jupyter.widget-view+json": {
       "model_id": "e8f24b6f57cf4998b9ed5f239ec4bdc5",
       "version_major": 2,
       "version_minor": 0
      },
      "text/plain": [
       "HBox(children=(IntProgress(value=0, description='Episode 356.mp3', max=59407083, style=ProgressStyle(descripti…"
      ]
     },
     "metadata": {},
     "output_type": "display_data"
    },
    {
     "data": {
      "application/vnd.jupyter.widget-view+json": {
       "model_id": "b64320c1bf944284b68e214648efa73a",
       "version_major": 2,
       "version_minor": 0
      },
      "text/plain": [
       "HBox(children=(IntProgress(value=0, description='Episode 356.jpg', max=862531, style=ProgressStyle(description…"
      ]
     },
     "metadata": {},
     "output_type": "display_data"
    },
    {
     "data": {
      "application/vnd.jupyter.widget-view+json": {
       "model_id": "892036434e0449699d39a7efd39011a1",
       "version_major": 2,
       "version_minor": 0
      },
      "text/plain": [
       "HBox(children=(IntProgress(value=0, description='Episode 357.mp3', max=58301616, style=ProgressStyle(descripti…"
      ]
     },
     "metadata": {},
     "output_type": "display_data"
    },
    {
     "data": {
      "application/vnd.jupyter.widget-view+json": {
       "model_id": "1ac9850067d64fef993cf1bf27aa17a0",
       "version_major": 2,
       "version_minor": 0
      },
      "text/plain": [
       "HBox(children=(IntProgress(value=0, description='Episode 357.jpg', max=1986450, style=ProgressStyle(descriptio…"
      ]
     },
     "metadata": {},
     "output_type": "display_data"
    },
    {
     "data": {
      "application/vnd.jupyter.widget-view+json": {
       "model_id": "856b688a554144c591080b5c76713aa3",
       "version_major": 2,
       "version_minor": 0
      },
      "text/plain": [
       "HBox(children=(IntProgress(value=0, description='Episode 358.mp3', max=64828917, style=ProgressStyle(descripti…"
      ]
     },
     "metadata": {},
     "output_type": "display_data"
    },
    {
     "data": {
      "application/vnd.jupyter.widget-view+json": {
       "model_id": "1f882ccd4cf94002b6e1ca4c066a9ecd",
       "version_major": 2,
       "version_minor": 0
      },
      "text/plain": [
       "HBox(children=(IntProgress(value=0, description='Episode 358.jpg', max=875703, style=ProgressStyle(description…"
      ]
     },
     "metadata": {},
     "output_type": "display_data"
    },
    {
     "data": {
      "application/vnd.jupyter.widget-view+json": {
       "model_id": "114bf170c4784174bd1485c5c92b9c31",
       "version_major": 2,
       "version_minor": 0
      },
      "text/plain": [
       "HBox(children=(IntProgress(value=0, description='Episode 359.mp3', max=49819836, style=ProgressStyle(descripti…"
      ]
     },
     "metadata": {},
     "output_type": "display_data"
    },
    {
     "data": {
      "application/vnd.jupyter.widget-view+json": {
       "model_id": "823b50aa33674208beae558367603d6c",
       "version_major": 2,
       "version_minor": 0
      },
      "text/plain": [
       "HBox(children=(IntProgress(value=0, description='Episode 359.jpg', max=599774, style=ProgressStyle(description…"
      ]
     },
     "metadata": {},
     "output_type": "display_data"
    },
    {
     "data": {
      "application/vnd.jupyter.widget-view+json": {
       "model_id": "d1f8a818fac2428397d8a82aee4f39c9",
       "version_major": 2,
       "version_minor": 0
      },
      "text/plain": [
       "HBox(children=(IntProgress(value=0, description='Episode 360.mp3', max=36062589, style=ProgressStyle(descripti…"
      ]
     },
     "metadata": {},
     "output_type": "display_data"
    },
    {
     "data": {
      "application/vnd.jupyter.widget-view+json": {
       "model_id": "96f3f7c5021243d99ee7835ff63640fb",
       "version_major": 2,
       "version_minor": 0
      },
      "text/plain": [
       "HBox(children=(IntProgress(value=0, description='Episode 360.jpg', max=810561, style=ProgressStyle(description…"
      ]
     },
     "metadata": {},
     "output_type": "display_data"
    },
    {
     "data": {
      "application/vnd.jupyter.widget-view+json": {
       "model_id": "43ae0a6e13604095839464b399db82dd",
       "version_major": 2,
       "version_minor": 0
      },
      "text/plain": [
       "HBox(children=(IntProgress(value=0, description='Episode 361.mp3', max=60305718, style=ProgressStyle(descripti…"
      ]
     },
     "metadata": {},
     "output_type": "display_data"
    },
    {
     "data": {
      "application/vnd.jupyter.widget-view+json": {
       "model_id": "07cc77c45ecc45e69acbf25db33ee08b",
       "version_major": 2,
       "version_minor": 0
      },
      "text/plain": [
       "HBox(children=(IntProgress(value=0, description='Episode 361.jpg', max=2974692, style=ProgressStyle(descriptio…"
      ]
     },
     "metadata": {},
     "output_type": "display_data"
    },
    {
     "data": {
      "application/vnd.jupyter.widget-view+json": {
       "model_id": "ee6863d47a8d4e3e88cece29512ee1ac",
       "version_major": 2,
       "version_minor": 0
      },
      "text/plain": [
       "HBox(children=(IntProgress(value=0, description='Episode 362.mp3', max=48393696, style=ProgressStyle(descripti…"
      ]
     },
     "metadata": {},
     "output_type": "display_data"
    },
    {
     "data": {
      "application/vnd.jupyter.widget-view+json": {
       "model_id": "dbc823235bb242b7a637b51a671fa3ea",
       "version_major": 2,
       "version_minor": 0
      },
      "text/plain": [
       "HBox(children=(IntProgress(value=0, description='Episode 362.jpg', max=383646, style=ProgressStyle(description…"
      ]
     },
     "metadata": {},
     "output_type": "display_data"
    },
    {
     "data": {
      "application/vnd.jupyter.widget-view+json": {
       "model_id": "3d67507a8caa41c6b1a4da19cce54796",
       "version_major": 2,
       "version_minor": 0
      },
      "text/plain": [
       "HBox(children=(IntProgress(value=0, description='Episode 363.mp3', max=60315309, style=ProgressStyle(descripti…"
      ]
     },
     "metadata": {},
     "output_type": "display_data"
    },
    {
     "data": {
      "application/vnd.jupyter.widget-view+json": {
       "model_id": "97caba95ea6d43b095340ee0fb0acab2",
       "version_major": 2,
       "version_minor": 0
      },
      "text/plain": [
       "HBox(children=(IntProgress(value=0, description='Episode 363.jpg', max=1434810, style=ProgressStyle(descriptio…"
      ]
     },
     "metadata": {},
     "output_type": "display_data"
    },
    {
     "data": {
      "application/vnd.jupyter.widget-view+json": {
       "model_id": "d43b593bef1b4ebfa62b44b20a41ff90",
       "version_major": 2,
       "version_minor": 0
      },
      "text/plain": [
       "HBox(children=(IntProgress(value=0, description='Episode 364.mp3', max=71237373, style=ProgressStyle(descripti…"
      ]
     },
     "metadata": {},
     "output_type": "display_data"
    },
    {
     "data": {
      "application/vnd.jupyter.widget-view+json": {
       "model_id": "292f91aa14654b7a9563863d062ccd5e",
       "version_major": 2,
       "version_minor": 0
      },
      "text/plain": [
       "HBox(children=(IntProgress(value=0, description='Episode 364.jpg', max=1258198, style=ProgressStyle(descriptio…"
      ]
     },
     "metadata": {},
     "output_type": "display_data"
    },
    {
     "data": {
      "application/vnd.jupyter.widget-view+json": {
       "model_id": "1a437f4d5e884d64b25128f416462446",
       "version_major": 2,
       "version_minor": 0
      },
      "text/plain": [
       "HBox(children=(IntProgress(value=0, description='Episode 365.mp3', max=61684320, style=ProgressStyle(descripti…"
      ]
     },
     "metadata": {},
     "output_type": "display_data"
    },
    {
     "data": {
      "application/vnd.jupyter.widget-view+json": {
       "model_id": "845e9ceb873841ff96c51ce6ced41580",
       "version_major": 2,
       "version_minor": 0
      },
      "text/plain": [
       "HBox(children=(IntProgress(value=0, description='Episode 365.jpg', max=1222823, style=ProgressStyle(descriptio…"
      ]
     },
     "metadata": {},
     "output_type": "display_data"
    },
    {
     "data": {
      "application/vnd.jupyter.widget-view+json": {
       "model_id": "3aba0bb246f646dbb91a824e2364a075",
       "version_major": 2,
       "version_minor": 0
      },
      "text/plain": [
       "HBox(children=(IntProgress(value=0, description='Episode 366.mp3', max=45483036, style=ProgressStyle(descripti…"
      ]
     },
     "metadata": {},
     "output_type": "display_data"
    },
    {
     "data": {
      "application/vnd.jupyter.widget-view+json": {
       "model_id": "7e6dda9b188e43078afc242b85049cf5",
       "version_major": 2,
       "version_minor": 0
      },
      "text/plain": [
       "HBox(children=(IntProgress(value=0, description='Episode 366.jpg', max=1826298, style=ProgressStyle(descriptio…"
      ]
     },
     "metadata": {},
     "output_type": "display_data"
    },
    {
     "data": {
      "application/vnd.jupyter.widget-view+json": {
       "model_id": "c712f8327ca14e82ab77fe591a2fb646",
       "version_major": 2,
       "version_minor": 0
      },
      "text/plain": [
       "HBox(children=(IntProgress(value=0, description='Episode 367.mp3', max=43144917, style=ProgressStyle(descripti…"
      ]
     },
     "metadata": {},
     "output_type": "display_data"
    },
    {
     "data": {
      "application/vnd.jupyter.widget-view+json": {
       "model_id": "e9e64348f1384adc886e8db86bb22aa2",
       "version_major": 2,
       "version_minor": 0
      },
      "text/plain": [
       "HBox(children=(IntProgress(value=0, description='Episode 367.jpg', max=1227920, style=ProgressStyle(descriptio…"
      ]
     },
     "metadata": {},
     "output_type": "display_data"
    },
    {
     "data": {
      "application/vnd.jupyter.widget-view+json": {
       "model_id": "8c9a4badda424824bf26fe7b63d387f3",
       "version_major": 2,
       "version_minor": 0
      },
      "text/plain": [
       "HBox(children=(IntProgress(value=0, description='Episode 368.mp3', max=60196047, style=ProgressStyle(descripti…"
      ]
     },
     "metadata": {},
     "output_type": "display_data"
    },
    {
     "data": {
      "application/vnd.jupyter.widget-view+json": {
       "model_id": "35dd63cecc3d43689280af9be36aa949",
       "version_major": 2,
       "version_minor": 0
      },
      "text/plain": [
       "HBox(children=(IntProgress(value=0, description='Episode 368.jpg', max=1851829, style=ProgressStyle(descriptio…"
      ]
     },
     "metadata": {},
     "output_type": "display_data"
    },
    {
     "data": {
      "application/vnd.jupyter.widget-view+json": {
       "model_id": "b9d8312444304974a0fa8d7188649a84",
       "version_major": 2,
       "version_minor": 0
      },
      "text/plain": [
       "HBox(children=(IntProgress(value=0, description='Episode 369.mp3', max=43281276, style=ProgressStyle(descripti…"
      ]
     },
     "metadata": {},
     "output_type": "display_data"
    },
    {
     "data": {
      "application/vnd.jupyter.widget-view+json": {
       "model_id": "3c5cb116020845d397e733bb5c0e23b5",
       "version_major": 2,
       "version_minor": 0
      },
      "text/plain": [
       "HBox(children=(IntProgress(value=0, description='Episode 369.jpg', max=1261146, style=ProgressStyle(descriptio…"
      ]
     },
     "metadata": {},
     "output_type": "display_data"
    },
    {
     "data": {
      "application/vnd.jupyter.widget-view+json": {
       "model_id": "9b330b69d822428a8c5a1e27e8495a0c",
       "version_major": 2,
       "version_minor": 0
      },
      "text/plain": [
       "HBox(children=(IntProgress(value=0, description='Episode 370.mp3', max=50190966, style=ProgressStyle(descripti…"
      ]
     },
     "metadata": {},
     "output_type": "display_data"
    },
    {
     "data": {
      "application/vnd.jupyter.widget-view+json": {
       "model_id": "01a2250450a9463689a84b6ae53f99aa",
       "version_major": 2,
       "version_minor": 0
      },
      "text/plain": [
       "HBox(children=(IntProgress(value=0, description='Episode 370.jpg', max=1976394, style=ProgressStyle(descriptio…"
      ]
     },
     "metadata": {},
     "output_type": "display_data"
    },
    {
     "data": {
      "application/vnd.jupyter.widget-view+json": {
       "model_id": "213d52a9f88c404b87abd264961aca75",
       "version_major": 2,
       "version_minor": 0
      },
      "text/plain": [
       "HBox(children=(IntProgress(value=0, description='Episode 371.mp3', max=62154279, style=ProgressStyle(descripti…"
      ]
     },
     "metadata": {},
     "output_type": "display_data"
    },
    {
     "data": {
      "application/vnd.jupyter.widget-view+json": {
       "model_id": "1d45a713a667414496b625651648581d",
       "version_major": 2,
       "version_minor": 0
      },
      "text/plain": [
       "HBox(children=(IntProgress(value=0, description='Episode 371.jpg', max=3983388, style=ProgressStyle(descriptio…"
      ]
     },
     "metadata": {},
     "output_type": "display_data"
    },
    {
     "data": {
      "application/vnd.jupyter.widget-view+json": {
       "model_id": "1c1adb65c31f4d8daef99a48d796e097",
       "version_major": 2,
       "version_minor": 0
      },
      "text/plain": [
       "HBox(children=(IntProgress(value=0, description='Episode 372.mp3', max=49813998, style=ProgressStyle(descripti…"
      ]
     },
     "metadata": {},
     "output_type": "display_data"
    },
    {
     "data": {
      "application/vnd.jupyter.widget-view+json": {
       "model_id": "a970abc1a6664da4b4b7ddf7b5ab7ea2",
       "version_major": 2,
       "version_minor": 0
      },
      "text/plain": [
       "HBox(children=(IntProgress(value=0, description='Episode 372.jpg', max=998165, style=ProgressStyle(description…"
      ]
     },
     "metadata": {},
     "output_type": "display_data"
    },
    {
     "data": {
      "application/vnd.jupyter.widget-view+json": {
       "model_id": "6f5d25c7f286458d92193f5e50c16be1",
       "version_major": 2,
       "version_minor": 0
      },
      "text/plain": [
       "HBox(children=(IntProgress(value=0, description='Episode 373.mp3', max=59935839, style=ProgressStyle(descripti…"
      ]
     },
     "metadata": {},
     "output_type": "display_data"
    },
    {
     "data": {
      "application/vnd.jupyter.widget-view+json": {
       "model_id": "5eba113513d943a4bc8c30ae2c425735",
       "version_major": 2,
       "version_minor": 0
      },
      "text/plain": [
       "HBox(children=(IntProgress(value=0, description='Episode 373.jpg', max=1337122, style=ProgressStyle(descriptio…"
      ]
     },
     "metadata": {},
     "output_type": "display_data"
    },
    {
     "data": {
      "application/vnd.jupyter.widget-view+json": {
       "model_id": "d977672eda4e41998a9942e90764bc88",
       "version_major": 2,
       "version_minor": 0
      },
      "text/plain": [
       "HBox(children=(IntProgress(value=0, description='Episode 374.mp3', max=70803276, style=ProgressStyle(descripti…"
      ]
     },
     "metadata": {},
     "output_type": "display_data"
    },
    {
     "data": {
      "application/vnd.jupyter.widget-view+json": {
       "model_id": "8c2098fca9a341ba9ce9721e34a3e357",
       "version_major": 2,
       "version_minor": 0
      },
      "text/plain": [
       "HBox(children=(IntProgress(value=0, description='Episode 374.jpg', max=1600013, style=ProgressStyle(descriptio…"
      ]
     },
     "metadata": {},
     "output_type": "display_data"
    }
   ],
   "source": [
    "for pod in tqdm_notebook(podcasts, desc='Downloading podcasts...'):\n",
    "    if pod['episode'] > 321:\n",
    "        download(pod['url'], \"Episode \"+str(pod['episode'])+\".mp3\")\n",
    "        download(pod['image'], \"Episode \"+str(pod['episode'])+\".jpg\")\n"
   ]
  }
 ],
 "metadata": {
  "kernelspec": {
   "display_name": "Python 3",
   "language": "python",
   "name": "python3"
  },
  "language_info": {
   "codemirror_mode": {
    "name": "ipython",
    "version": 3
   },
   "file_extension": ".py",
   "mimetype": "text/x-python",
   "name": "python",
   "nbconvert_exporter": "python",
   "pygments_lexer": "ipython3",
   "version": "3.7.4"
  }
 },
 "nbformat": 4,
 "nbformat_minor": 2
}
